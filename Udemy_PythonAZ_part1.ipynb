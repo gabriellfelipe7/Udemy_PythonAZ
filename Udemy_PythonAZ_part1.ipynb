{
  "nbformat": 4,
  "nbformat_minor": 0,
  "metadata": {
    "colab": {
      "provenance": [],
      "authorship_tag": "ABX9TyPqWNHfmewUDpTyYcZXn+g0",
      "include_colab_link": true
    },
    "kernelspec": {
      "name": "python3",
      "display_name": "Python 3"
    },
    "language_info": {
      "name": "python"
    }
  },
  "cells": [
    {
      "cell_type": "markdown",
      "metadata": {
        "id": "view-in-github",
        "colab_type": "text"
      },
      "source": [
        "<a href=\"https://colab.research.google.com/github/gabriellfelipe7/Udemy_PythonAZ/blob/main/Udemy_PythonAZ_part1.ipynb\" target=\"_parent\"><img src=\"https://colab.research.google.com/assets/colab-badge.svg\" alt=\"Open In Colab\"/></a>"
      ]
    },
    {
      "cell_type": "markdown",
      "source": [
        "# **PARTE 1: CLASSIFICAÇÃO**"
      ],
      "metadata": {
        "id": "OIefGbO0_Ihq"
      }
    },
    {
      "cell_type": "markdown",
      "source": [
        "APRENDIZADO DE MÁQUINA\n",
        "- Métodos Preditivos (SUPERVISIONADA): Classificação; Regressão;\n",
        "- Métodos Descritivos (NÃO SUPERVISIONADA): Associação; Agrupamento; Detecção de Desvios; Padrôes Sequenciais; Sumarização.\n",
        "- (APRENDIZAGEM POR REFORÇO)"
      ],
      "metadata": {
        "id": "VUhhyc-FEXjh"
      }
    },
    {
      "cell_type": "code",
      "execution_count": null,
      "metadata": {
        "id": "V3OifCwG-cyd"
      },
      "outputs": [],
      "source": []
    }
  ]
}